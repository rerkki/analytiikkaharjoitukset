{
  "nbformat": 4,
  "nbformat_minor": 0,
  "metadata": {
    "colab": {
      "name": "Systeemi_5.ipynb",
      "provenance": []
    },
    "kernelspec": {
      "name": "python3",
      "display_name": "Python 3"
    }
  },
  "cells": [
    {
      "cell_type": "code",
      "metadata": {
        "id": "CBqVcpENNTbO",
        "colab_type": "code",
        "colab": {
          "base_uri": "https://localhost:8080/",
          "height": 51
        },
        "outputId": "b44235e4-f97a-4acc-f4f1-bc8ff5153df5"
      },
      "source": [
        "import pandas as pd\n",
        "import numpy as np\n",
        "import matplotlib.pyplot as plt\n",
        "import seaborn as sns\n",
        "from sklearn.model_selection import train_test_split\n",
        "from sklearn.linear_model import LinearRegression\n",
        "from sklearn.metrics import mean_squared_error, r2_score"
      ],
      "execution_count": null,
      "outputs": [
        {
          "output_type": "stream",
          "text": [
            "/usr/local/lib/python3.6/dist-packages/statsmodels/tools/_testing.py:19: FutureWarning: pandas.util.testing is deprecated. Use the functions in the public API at pandas.testing instead.\n",
            "  import pandas.util.testing as tm\n"
          ],
          "name": "stderr"
        }
      ]
    },
    {
      "cell_type": "code",
      "metadata": {
        "id": "pVyc1K-xNcdb",
        "colab_type": "code",
        "colab": {
          "base_uri": "https://localhost:8080/",
          "height": 131
        },
        "outputId": "b2f564a6-f409-4ec0-c00e-779cbc9c6d08"
      },
      "source": [
        "dat = pd.read_csv(\"https://raw.githubusercontent.com/rerkki/metropolia/master/vesidata.csv\", encoding='latin-1')\n",
        "\n",
        "df = dat[['pH','Johtokyky','Natrium','Sulfaatti', 'Juoksutus', 'Sulfaatti_indeksi']] #df on datasta muodostettu pienempi osajoukko\n",
        "\n",
        "dat[0:2] #tulostetaan otsikko ja ensimmäinen rivi tarkistuksen vuoksi"
      ],
      "execution_count": null,
      "outputs": [
        {
          "output_type": "execute_result",
          "data": {
            "text/html": [
              "<div>\n",
              "<style scoped>\n",
              "    .dataframe tbody tr th:only-of-type {\n",
              "        vertical-align: middle;\n",
              "    }\n",
              "\n",
              "    .dataframe tbody tr th {\n",
              "        vertical-align: top;\n",
              "    }\n",
              "\n",
              "    .dataframe thead th {\n",
              "        text-align: right;\n",
              "    }\n",
              "</style>\n",
              "<table border=\"1\" class=\"dataframe\">\n",
              "  <thead>\n",
              "    <tr style=\"text-align: right;\">\n",
              "      <th></th>\n",
              "      <th>Aika</th>\n",
              "      <th>sadanta</th>\n",
              "      <th>Juoksutus</th>\n",
              "      <th>Elohopea</th>\n",
              "      <th>pH</th>\n",
              "      <th>Johtokyky</th>\n",
              "      <th>Orgaaninen</th>\n",
              "      <th>Kiintoaine</th>\n",
              "      <th>Fosfori</th>\n",
              "      <th>Natrium</th>\n",
              "      <th>Kalium</th>\n",
              "      <th>Kalsium</th>\n",
              "      <th>Magnesium</th>\n",
              "      <th>Kovuus</th>\n",
              "      <th>Typpi</th>\n",
              "      <th>Rauta</th>\n",
              "      <th>Kadmium</th>\n",
              "      <th>Kromi</th>\n",
              "      <th>Kupari</th>\n",
              "      <th>Lyijy</th>\n",
              "      <th>Nikkeli</th>\n",
              "      <th>Sinkki</th>\n",
              "      <th>Arseeni</th>\n",
              "      <th>Koboltti</th>\n",
              "      <th>Sulfaatti</th>\n",
              "      <th>pH_indeksi</th>\n",
              "      <th>Johtokyky_indeksi</th>\n",
              "      <th>Sulfaatti_indeksi</th>\n",
              "      <th>Sadanta_indeksi</th>\n",
              "    </tr>\n",
              "  </thead>\n",
              "  <tbody>\n",
              "    <tr>\n",
              "      <th>0</th>\n",
              "      <td>tammi.15</td>\n",
              "      <td>26.9</td>\n",
              "      <td>103934</td>\n",
              "      <td>0.005</td>\n",
              "      <td>8.4</td>\n",
              "      <td>150.0</td>\n",
              "      <td>0.71</td>\n",
              "      <td>2.0</td>\n",
              "      <td>0.005</td>\n",
              "      <td>45</td>\n",
              "      <td>8.4</td>\n",
              "      <td>75</td>\n",
              "      <td>160</td>\n",
              "      <td>7.9</td>\n",
              "      <td>0.64</td>\n",
              "      <td>0.21</td>\n",
              "      <td>0.000017</td>\n",
              "      <td>0.00021</td>\n",
              "      <td>0.00047</td>\n",
              "      <td>0.000050</td>\n",
              "      <td>0.57</td>\n",
              "      <td>0.023</td>\n",
              "      <td>0.083</td>\n",
              "      <td>0.015</td>\n",
              "      <td>760</td>\n",
              "      <td>2</td>\n",
              "      <td>1</td>\n",
              "      <td>1</td>\n",
              "      <td>1</td>\n",
              "    </tr>\n",
              "    <tr>\n",
              "      <th>1</th>\n",
              "      <td>helmi.15</td>\n",
              "      <td>47.3</td>\n",
              "      <td>98253</td>\n",
              "      <td>0.005</td>\n",
              "      <td>8.6</td>\n",
              "      <td>140.0</td>\n",
              "      <td>2.40</td>\n",
              "      <td>1.6</td>\n",
              "      <td>0.005</td>\n",
              "      <td>39</td>\n",
              "      <td>7.2</td>\n",
              "      <td>69</td>\n",
              "      <td>140</td>\n",
              "      <td>7.5</td>\n",
              "      <td>0.63</td>\n",
              "      <td>0.17</td>\n",
              "      <td>0.000014</td>\n",
              "      <td>0.00043</td>\n",
              "      <td>0.00110</td>\n",
              "      <td>0.000068</td>\n",
              "      <td>0.53</td>\n",
              "      <td>0.031</td>\n",
              "      <td>0.087</td>\n",
              "      <td>0.016</td>\n",
              "      <td>700</td>\n",
              "      <td>2</td>\n",
              "      <td>1</td>\n",
              "      <td>1</td>\n",
              "      <td>1</td>\n",
              "    </tr>\n",
              "  </tbody>\n",
              "</table>\n",
              "</div>"
            ],
            "text/plain": [
              "       Aika  sadanta  ...  Sulfaatti_indeksi  Sadanta_indeksi\n",
              "0  tammi.15     26.9  ...                  1                1\n",
              "1  helmi.15     47.3  ...                  1                1\n",
              "\n",
              "[2 rows x 29 columns]"
            ]
          },
          "metadata": {
            "tags": []
          },
          "execution_count": 2
        }
      ]
    }
  ]
}